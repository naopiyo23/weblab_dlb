{
 "cells": [
  {
   "cell_type": "markdown",
   "metadata": {},
   "source": [
    "# 第2回講義\n",
    "\n",
    "<small><i>Kenji Ogawa, Yusuke Sugomori</i></small>\n",
    "\n",
    "**目的**: numpy, scipy, scikit-learn の使い方を理解する\n",
    "\n",
    "- すでに知っているという人は宿題を進めてください。\n",
    "- 宿題も終わってしまった人は[100 numpy exercises](http://www.labri.fr/perso/nrougier/teaching/numpy.100/)に挑戦してみてください。\n",
    "\n",
    "\n",
    "### 目次\n",
    "\n",
    "#### 1. numpy\n",
    "  - 概要\n",
    "  - インポート\n",
    "  - 行列・ベクトルの生成・初期化\n",
    "  - 行列・ベクトルの操作\n",
    "  - 行列・ベクトルに関する計算\n",
    "  - Broadcasting\n",
    "  - 乱数生成\n",
    "    \n",
    "    ** 問題 1: 1-1, 1-2 **\n",
    "\n",
    "#### 2. matplotlib\n",
    "  - インポート\n",
    "  - plot関数の使い方例\n",
    "  - ヒストグラム\n",
    "  - ２次元画像の扱い\n",
    "  - グラフの分割\n",
    "\n",
    "#### 3. scikit-learn (sklearn)\n",
    "  - shuffle\n",
    "  - train_test_split\n",
    "  - データセットの取得\n",
    "  - Train, Validation, Test 例\n",
    "  \n",
    "#### 参考：画像処理\n",
    "\n",
    "  ** 問題 2: 2-1, 2-2, 2-3, 2-4 **"
   ]
  },
  {
   "cell_type": "markdown",
   "metadata": {},
   "source": [
    "## 1. numpy"
   ]
  },
  {
   "cell_type": "markdown",
   "metadata": {},
   "source": [
    "### 概要\n",
    "\n",
    "Pythonの数値計算ライブラリであるnumpyは、行列計算をはじめとする様々な数学関数を提供してくれます。\n",
    "\n",
    "numpyのサポートする関数は多岐に渡り、とてもすべての機能について説明することはできないほどです。\n",
    "\n",
    "そこでここでは特に今後の講義・演習で必要になってくる基本的な事柄をピックアップして触れていきます。\n",
    "\n",
    "\n",
    "※ コードの部分は、結果を予想してから実行ボタンを押してください。\n",
    "\n",
    "　 また、自分で一部を変更してどのような挙動に変わるか、結果を確認してみてください。"
   ]
  },
  {
   "cell_type": "markdown",
   "metadata": {},
   "source": [
    "### インポート"
   ]
  },
  {
   "cell_type": "code",
   "execution_count": 2,
   "metadata": {
    "collapsed": true
   },
   "outputs": [],
   "source": [
    "import numpy as np"
   ]
  },
  {
   "cell_type": "markdown",
   "metadata": {},
   "source": [
    "### 行列・ベクトルの生成・初期化"
   ]
  },
  {
   "cell_type": "markdown",
   "metadata": {},
   "source": [
    "#### - array：要素指定によるnumpy配列の生成"
   ]
  },
  {
   "cell_type": "code",
   "execution_count": 2,
   "metadata": {},
   "outputs": [
    {
     "name": "stdout",
     "output_type": "stream",
     "text": [
      "[[1 2 3]\n",
      " [4 5 6]]\n",
      "[7 8 9]\n"
     ]
    }
   ],
   "source": [
    "W = np.array([[1, 2, 3], [4, 5, 6]])\n",
    "x = np.array([7, 8, 9])\n",
    "\n",
    "print(W)\n",
    "print(x)"
   ]
  },
  {
   "cell_type": "markdown",
   "metadata": {},
   "source": [
    "#### - shape：numpy配列の次元"
   ]
  },
  {
   "cell_type": "code",
   "execution_count": 3,
   "metadata": {},
   "outputs": [
    {
     "name": "stdout",
     "output_type": "stream",
     "text": [
      "(2, 3)\n",
      "(3,)\n"
     ]
    }
   ],
   "source": [
    "print(W.shape)\n",
    "print(x.shape)"
   ]
  },
  {
   "cell_type": "markdown",
   "metadata": {},
   "source": [
    "* 注意\n",
    "\n",
    "xによく似た次の配列はxと区別されます：「1次元のnumpy配列 ≠（2次元の）行ベクトル・列ベクトルのnumpy配列」"
   ]
  },
  {
   "cell_type": "code",
   "execution_count": 4,
   "metadata": {},
   "outputs": [
    {
     "name": "stdout",
     "output_type": "stream",
     "text": [
      "(1, 3)\n",
      "(3, 1)\n"
     ]
    }
   ],
   "source": [
    "x_row = np.array([[7, 8, 9]])\n",
    "x_col = np.array([[7], [8], [9]])\n",
    "print(x_row.shape)\n",
    "print(x_col.shape)"
   ]
  },
  {
   "cell_type": "markdown",
   "metadata": {},
   "source": [
    "#### - zeros：0からなるnumpy配列の生成(shapeを指定)"
   ]
  },
  {
   "cell_type": "code",
   "execution_count": 5,
   "metadata": {},
   "outputs": [
    {
     "name": "stdout",
     "output_type": "stream",
     "text": [
      "[0. 0. 0. 0. 0. 0. 0. 0. 0. 0.]\n",
      "[[0. 0. 0.]\n",
      " [0. 0. 0.]]\n"
     ]
    }
   ],
   "source": [
    "print(np.zeros(10))\n",
    "print(np.zeros((2,3)))"
   ]
  },
  {
   "cell_type": "markdown",
   "metadata": {},
   "source": [
    "#### - ones：1からなるnumpy配列の生成(shapeを指定)"
   ]
  },
  {
   "cell_type": "code",
   "execution_count": 6,
   "metadata": {},
   "outputs": [
    {
     "name": "stdout",
     "output_type": "stream",
     "text": [
      "[1. 1. 1. 1. 1. 1. 1. 1. 1. 1.]\n",
      "[[1. 1. 1.]\n",
      " [1. 1. 1.]\n",
      " [1. 1. 1.]]\n"
     ]
    }
   ],
   "source": [
    "print(np.ones(10))\n",
    "print(np.ones((3,3)))"
   ]
  },
  {
   "cell_type": "markdown",
   "metadata": {},
   "source": [
    "#### - arange：[start, stop)の連番numpy配列の生成"
   ]
  },
  {
   "cell_type": "code",
   "execution_count": 7,
   "metadata": {},
   "outputs": [
    {
     "name": "stdout",
     "output_type": "stream",
     "text": [
      "[0 1 2 3 4 5 6 7 8 9]\n",
      "[3 4 5 6]\n",
      "[1.  1.1 1.2 1.3 1.4 1.5 1.6 1.7 1.8 1.9 2.  2.1 2.2 2.3 2.4 2.5 2.6 2.7\n",
      " 2.8 2.9 3.  3.1 3.2 3.3 3.4 3.5 3.6 3.7 3.8 3.9 4.  4.1 4.2 4.3 4.4 4.5\n",
      " 4.6 4.7 4.8 4.9 5.  5.1 5.2 5.3 5.4 5.5 5.6 5.7 5.8 5.9 6.  6.1 6.2 6.3\n",
      " 6.4 6.5 6.6 6.7 6.8 6.9 7.  7.1 7.2 7.3 7.4 7.5 7.6 7.7 7.8 7.9 8.  8.1\n",
      " 8.2 8.3 8.4 8.5 8.6 8.7 8.8 8.9 9.  9.1 9.2 9.3 9.4 9.5 9.6 9.7 9.8 9.9]\n"
     ]
    }
   ],
   "source": [
    "print(np.arange(10))       # start = 0 (default), end = 10\n",
    "print(np.arange(3,7))      # start = 3, end = 7\n",
    "print(np.arange(1,10,0.1)) # start = 1, end = 10, slice = 0.1"
   ]
  },
  {
   "cell_type": "markdown",
   "metadata": {},
   "source": [
    "#### - linspace：[start, stop]をN等分した境界値"
   ]
  },
  {
   "cell_type": "code",
   "execution_count": 8,
   "metadata": {},
   "outputs": [
    {
     "name": "stdout",
     "output_type": "stream",
     "text": [
      "[ 0.   0.5  1.   1.5  2.   2.5  3.   3.5  4.   4.5  5.   5.5  6.   6.5\n",
      "  7.   7.5  8.   8.5  9.   9.5 10. ]\n"
     ]
    }
   ],
   "source": [
    "print(np.linspace(0, 10, 21))"
   ]
  },
  {
   "cell_type": "markdown",
   "metadata": {},
   "source": [
    "### 行列・ベクトルの操作"
   ]
  },
  {
   "cell_type": "markdown",
   "metadata": {},
   "source": [
    "#### - transpose：転置"
   ]
  },
  {
   "cell_type": "code",
   "execution_count": 9,
   "metadata": {},
   "outputs": [
    {
     "name": "stdout",
     "output_type": "stream",
     "text": [
      "[[1 2 3]\n",
      " [4 5 6]]\n",
      "[[1 4]\n",
      " [2 5]\n",
      " [3 6]]\n",
      "\n",
      "[7 8 9]\n",
      "[7 8 9]\n"
     ]
    }
   ],
   "source": [
    "W = np.array([[1, 2, 3], [4, 5, 6]])\n",
    "x = np.array([7, 8, 9])\n",
    "\n",
    "print(W)\n",
    "print(W.T)\n",
    "print()\n",
    "print(x)\n",
    "print(x.T)    # 1次元のxは転置されない"
   ]
  },
  {
   "cell_type": "markdown",
   "metadata": {},
   "source": [
    "#### - flatten：numpy配列の1次元化"
   ]
  },
  {
   "cell_type": "code",
   "execution_count": 10,
   "metadata": {},
   "outputs": [
    {
     "name": "stdout",
     "output_type": "stream",
     "text": [
      "[1 2 3 4 5 6]\n"
     ]
    }
   ],
   "source": [
    "print(W.flatten())"
   ]
  },
  {
   "cell_type": "markdown",
   "metadata": {},
   "source": [
    "#### - reshape：numpy配列の形状（次元）の変換"
   ]
  },
  {
   "cell_type": "code",
   "execution_count": 11,
   "metadata": {},
   "outputs": [
    {
     "name": "stdout",
     "output_type": "stream",
     "text": [
      "[[1 2]\n",
      " [3 4]\n",
      " [5 6]]\n",
      "[[0 1 2 3 4]\n",
      " [5 6 7 8 9]]\n"
     ]
    }
   ],
   "source": [
    "print(W.reshape(3, 2))\n",
    "print(np.arange(10).reshape(2, 5))"
   ]
  },
  {
   "cell_type": "markdown",
   "metadata": {},
   "source": [
    "#### - 要素アクセス、スライス\n",
    "\n",
    "numpy配列もPythonの標準の配列と同様に要素アクセス、スライスが可能です。"
   ]
  },
  {
   "cell_type": "code",
   "execution_count": 12,
   "metadata": {},
   "outputs": [
    {
     "name": "stdout",
     "output_type": "stream",
     "text": [
      "[1 2 3]\n",
      "[4 5 6]\n",
      "\n",
      "[1 4]\n",
      "[2 5]\n",
      "[3 6]\n",
      "\n",
      "[[4 5 6]\n",
      " [1 2 3]]\n",
      "\n",
      "[[3 2 1]\n",
      " [6 5 4]]\n",
      "\n",
      "[[6 5 4]\n",
      " [3 2 1]]\n"
     ]
    }
   ],
   "source": [
    "W = np.array([[1, 2, 3], [4, 5, 6]])\n",
    "\n",
    "print(W[0])\n",
    "print(W[1])\n",
    "print()\n",
    "\n",
    "print(W[:, 0])\n",
    "print(W[:, 1])\n",
    "print(W[:, 2])\n",
    "print()\n",
    "\n",
    "print(W[::-1])\n",
    "print()\n",
    "\n",
    "print(W[:, ::-1])\n",
    "print()\n",
    "\n",
    "print(W[::-1, ::-1])"
   ]
  },
  {
   "cell_type": "code",
   "execution_count": 13,
   "metadata": {},
   "outputs": [
    {
     "name": "stdout",
     "output_type": "stream",
     "text": [
      "[[ 0  1  2  3  4]\n",
      " [ 5  0  0  0  9]\n",
      " [10  0  0  0 14]\n",
      " [15 16 17 18 19]]\n"
     ]
    }
   ],
   "source": [
    "z = np.arange(20).reshape(4,5)\n",
    "x = np.zeros((2, 3))\n",
    "z[1:3,1:4] = x\n",
    "print(z)"
   ]
  },
  {
   "cell_type": "markdown",
   "metadata": {},
   "source": [
    "#### - インデックスによる要素アクセス（Ingteger array indexing）\n",
    "\n",
    "インデックスを示す配列を与えてやることで、配列の一部を抽出することができます。\n",
    "\n",
    "参考：(Advanced Indexing) http://docs.scipy.org/doc/numpy-1.10.0/reference/arrays.indexing.html"
   ]
  },
  {
   "cell_type": "code",
   "execution_count": 14,
   "metadata": {},
   "outputs": [
    {
     "name": "stdout",
     "output_type": "stream",
     "text": [
      "[[1 2 3 4]\n",
      " [5 6 7 8]]\n",
      "\n",
      "[1 6 3 8]\n",
      "[1 6 3 8]\n",
      "\n",
      "[[ 0  1  2]\n",
      " [ 3  4  5]\n",
      " [ 6  7  8]\n",
      " [ 9 10 11]]\n",
      "\n",
      "[ 0  5  6 10]\n",
      "\n",
      "[[10  1  2]\n",
      " [ 3  4 15]\n",
      " [16  7  8]\n",
      " [ 9 20 11]]\n"
     ]
    }
   ],
   "source": [
    "x = np.arange(1, 9).reshape(2, 4)\n",
    "print(x)\n",
    "print()\n",
    "\n",
    "y = x[[0, 1, 0, 1], [0, 1, 2, 3]]\n",
    "print(y)\n",
    "\n",
    "# z is equivalent as y\n",
    "# [(0,0), (1,1), (0,2), (1,3)] is zip([0,1,0,1], [0,1,2,3]) \n",
    "z = np.array([x[0, 0], x[1, 1], x[0, 2], x[1, 3]])\n",
    "print(z)\n",
    "print()\n",
    "\n",
    "A = np.arange(0,12).reshape(4,3)\n",
    "print(A)\n",
    "print()\n",
    "\n",
    "b = np.array([0, 2, 0, 1])\n",
    "print(A[np.arange(4), b])      # 各行からbのインデックスに従って抽出\n",
    "print()\n",
    "\n",
    "A[np.arange(4), b] += 10\n",
    "print(A)"
   ]
  },
  {
   "cell_type": "markdown",
   "metadata": {},
   "source": [
    "#### - 条件式による要素アクセス（Boolean array indexing）\n",
    "\n",
    "- `numpy.array`に条件式を書くと、成分毎の`True`, `False`を返します\n",
    "- `numpy.array`のかぎ括弧内に条件式を書くと`True`になっている成分だけを取り出した配列を返します\n",
    "- 成分ではなくインデックスが知りたい場合np.whereを使用するのがよいでしょう\n",
    "\n",
    "※ `numpy.array`ではなく、`list`だと振る舞いは異なってきます。"
   ]
  },
  {
   "cell_type": "code",
   "execution_count": 15,
   "metadata": {},
   "outputs": [
    {
     "name": "stdout",
     "output_type": "stream",
     "text": [
      "[0 1 2 3 4 5 6 7 8 9]\n",
      "[ True  True  True  True  True False False False False False]\n",
      "(array([0, 1, 2, 3, 4], dtype=int64),)\n",
      "\n",
      "[50 51 52 53 54 55 56 57 58 59]\n",
      "[50 51 52 53 54]\n",
      "[50 51 52 53 54]\n"
     ]
    }
   ],
   "source": [
    "a = np.arange(10)\n",
    "print(a)\n",
    "print(a < 5)\n",
    "print(np.where(a < 5))\n",
    "print()\n",
    "\n",
    "b = np.arange(50, 60)\n",
    "print(b)\n",
    "print(b[a < 5])\n",
    "print(b[np.where(a < 5)])"
   ]
  },
  {
   "cell_type": "markdown",
   "metadata": {},
   "source": [
    "### 行列・ベクトルに関する計算"
   ]
  },
  {
   "cell_type": "markdown",
   "metadata": {},
   "source": [
    "#### - スカラー演算"
   ]
  },
  {
   "cell_type": "code",
   "execution_count": 16,
   "metadata": {},
   "outputs": [
    {
     "name": "stdout",
     "output_type": "stream",
     "text": [
      "[[ 2  4  6]\n",
      " [ 8 10 12]]\n",
      "[-7 -8 -9]\n"
     ]
    }
   ],
   "source": [
    "W = np.array([[1, 2, 3], [4, 5, 6]])\n",
    "x = np.array([7, 8, 9])\n",
    "\n",
    "print(W * 2)\n",
    "print(-x)"
   ]
  },
  {
   "cell_type": "markdown",
   "metadata": {},
   "source": [
    "#### - 集約演算 (sum, mean, max, minなど)\n",
    "\n",
    "集約演算では、何も指定しなければ対象全体に対して演算を考えます。\n",
    "\n",
    "引数として `axis` を指定すれば、その軸に沿って演算を行うことができます。\n",
    "\n",
    "例えば、`x.shape=(2,3,4)` について考えると、\n",
    "\n",
    "- `axis=0`：`x[0,:,:]`と`x[1,:,:]`の(3,4)x2について要素ごとに演算\n",
    "\n",
    "- `axis=1`：`x[:,0,:]`と`x[:,1,:]`と`x[:,2,:]`の(2,4)x3について要素ごとに演算\n",
    "\n",
    "- `axis=2`：`x[:,:,0]`と`x[:,:,1]`と`x[:,:,2]`と`x[:,:,3]`の(2,3)x4について要素ごとに演算"
   ]
  },
  {
   "cell_type": "code",
   "execution_count": 17,
   "metadata": {},
   "outputs": [
    {
     "name": "stdout",
     "output_type": "stream",
     "text": [
      "[[1 2 3]\n",
      " [4 5 6]]\n",
      "\n",
      "21\n",
      "\n",
      "[5 7 9]\n",
      "\n",
      "[ 6 15]\n"
     ]
    }
   ],
   "source": [
    "# 行列での例\n",
    "W = np.array([[1, 2, 3], [4, 5, 6]])\n",
    "\n",
    "print(W)\n",
    "print()\n",
    "\n",
    "print(W.sum())\n",
    "print()\n",
    "\n",
    "print(W.sum(axis=0))\n",
    "print()\n",
    "\n",
    "print(W.sum(axis=1))"
   ]
  },
  {
   "cell_type": "code",
   "execution_count": 18,
   "metadata": {},
   "outputs": [
    {
     "name": "stdout",
     "output_type": "stream",
     "text": [
      "[[[ 0  1  2  3]\n",
      "  [ 4  5  6  7]\n",
      "  [ 8  9 10 11]]\n",
      "\n",
      " [[12 13 14 15]\n",
      "  [16 17 18 19]\n",
      "  [20 21 22 23]]]\n",
      "\n",
      "276\n",
      "\n",
      "[[12 14 16 18]\n",
      " [20 22 24 26]\n",
      " [28 30 32 34]]\n",
      "\n",
      "[[12 15 18 21]\n",
      " [48 51 54 57]]\n",
      "\n",
      "[[ 6 22 38]\n",
      " [54 70 86]]\n"
     ]
    }
   ],
   "source": [
    "# 3階テンソルでの例\n",
    "A = np.arange(24).reshape(2,3,4)\n",
    "print(A)\n",
    "print()\n",
    "\n",
    "print(A.sum())\n",
    "print()\n",
    "\n",
    "print(A.sum(axis=0))\n",
    "print()\n",
    "\n",
    "print(A.sum(axis=1))\n",
    "print()\n",
    "\n",
    "print(A.sum(axis=2))"
   ]
  },
  {
   "cell_type": "markdown",
   "metadata": {},
   "source": [
    "#### - ノルム"
   ]
  },
  {
   "cell_type": "code",
   "execution_count": 19,
   "metadata": {},
   "outputs": [
    {
     "data": {
      "text/plain": [
       "13.92838827718412"
      ]
     },
     "execution_count": 19,
     "metadata": {},
     "output_type": "execute_result"
    }
   ],
   "source": [
    "# squared norm\n",
    "# sqrt(7*7 + 8*8 + 9*9) = 13.928....\n",
    "x = np.array([7, 8, 9])\n",
    "np.linalg.norm(x, ord=2)"
   ]
  },
  {
   "cell_type": "markdown",
   "metadata": {},
   "source": [
    "#### - 行列積・テンソル積（matmul (dot), tensordot, einsum）\n",
    "- matmul  \n",
    "  行列積や行列とベクトルの積にはmatmulを使用するのが最も簡単です。  \n",
    "  $$C = AB \\Leftrightarrow c_{ik} = \\sum_{j} a_{ij}b_{jk}$$\n",
    "  3階以上のテンソルの積にも使用可能ですが、テンソルは末尾の（2階）行列のリストとして解釈され、\n",
    "  \n",
    "  その各々について行列積を取るという実装になっています。\n",
    "<br />\n",
    "<br />\n",
    "- dot  \n",
    "  matmulと同様の機能を提供する関数としてdotもよく使用されます。  \n",
    "\n",
    "  行列やベクトルしか関係しない計算の場合、matmulとdotに差はありません。\n",
    "  \n",
    "  matmulとdotの差は3階以上のテンソルが絡む計算において現れることになりますが、ここでは省略します。（理由は後述）\n",
    "<br />\n",
    "<br />\n",
    "- tensordot  \n",
    "  テンソル積には積和を取る軸を指定できるtensordotを使用します（`C = np.tensordot(A, B, axes = ?)`）\n",
    "  \n",
    "  例えばA,Bがそれぞれ3階のテンソルの時は\n",
    "  \n",
    "  `axes=0`：$c_{ijklmn} = a_{ijk}b_{lmn}$\n",
    "  \n",
    "  `axes=1`：$c_{ijlm} = \\sum_{k} a_{ijk}b_{klm}$\n",
    "  \n",
    "  `axes=2 (default)`：$c_{il} = \\sum_{j,k} a_{ijk}b_{jkl} \\left(\\neq \\sum_{j,k} a_{ijk}b_{kjl}\\right)$\n",
    "  \n",
    "  ※ 他にもより直接的に軸を指定する方法もありますがここでは省略します\n",
    "<br />\n",
    "<br />\n",
    "- einsum  \n",
    "  テンソル積一般を表現でき、表現力の意味では最も強力です。（byアインシュタインの縮約規則）\n",
    "  \n",
    "  このeinsumがあればtraceやtransposeはもちろん、これまでに扱ったmatmulやtensordotも実現可能できてしまいます。（※要使い分け）\n",
    "  \n",
    "  重要なのは、einsumでは2テンソル間の演算だけでなく3つ以上のテンソル間の演算も一度に実現可能であることでしょう。\n",
    "  \n",
    "  なお、積和の式が与えられた時のeinsumの表現は一般に次のようにして得ることができます（例：$c_{ik} = \\sum_{j} a_{ij}\\times b_{jk}$）\n",
    "  1. 変数名を消す（例：$ik = \\sum_{j} ij \\times jk$）\n",
    "  2. 積（$\\times$）をカンマで置き換える（例：$ik = \\sum_{j} ij, jk$）\n",
    "  3. シグマを消す（例：$ik = ij, jk$）\n",
    "  4. 左辺右辺を反転させ、等号を->にする（例：$ij, jk -> ik$）\n",
    "  \n",
    "  （例）\n",
    "  \n",
    "  `np.einsum('ij,jk->ik', A, B)`：行列積$\\sum_{j} a_{ij}b_{jk}$\n",
    "  \n",
    "  `np.einsum('i,i->', v, u)`：ベクトルの内積$\\sum_{i} v_{i}u_{i}$\n",
    "\n",
    "参考：\n",
    "- https://docs.scipy.org/doc/numpy/reference/generated/numpy.matmul.html\n",
    "- https://docs.scipy.org/doc/numpy/reference/generated/numpy.tensordot.html\n",
    "- https://docs.scipy.org/doc/numpy/reference/generated/numpy.einsum.html"
   ]
  },
  {
   "cell_type": "code",
   "execution_count": 20,
   "metadata": {},
   "outputs": [
    {
     "name": "stdout",
     "output_type": "stream",
     "text": [
      "[ 50 122]\n",
      "\n",
      "[[14 32]\n",
      " [32 77]]\n",
      "[[17 22 27]\n",
      " [22 29 36]\n",
      " [27 36 45]]\n",
      "\n",
      "[ 50 122]\n",
      "\n",
      "[[14 32]\n",
      " [32 77]]\n",
      "[[17 22 27]\n",
      " [22 29 36]\n",
      " [27 36 45]]\n"
     ]
    }
   ],
   "source": [
    "# matmul\n",
    "W = np.array([[1, 2, 3], [4, 5, 6]])\n",
    "x = np.array([7, 8, 9])\n",
    "\n",
    "print(np.matmul(W, x))\n",
    "print()\n",
    "\n",
    "print(np.matmul(W, W.T))\n",
    "print(np.matmul(W.T, W))\n",
    "print()\n",
    "\n",
    "# dot\n",
    "print(np.dot(W, x))\n",
    "print()\n",
    "print(np.dot(W, W.T))\n",
    "print(np.dot(W.T, W))"
   ]
  },
  {
   "cell_type": "code",
   "execution_count": 21,
   "metadata": {},
   "outputs": [
    {
     "name": "stdout",
     "output_type": "stream",
     "text": [
      "(2, 4)\n",
      "(2, 3, 3, 4)\n",
      "(2, 3, 3, 3, 3, 4)\n"
     ]
    }
   ],
   "source": [
    "# tensordot\n",
    "A = np.arange(18).reshape(2,3,3)\n",
    "B = np.arange(36).reshape(3,3,4)\n",
    "\n",
    "print(np.tensordot(A, B).shape)\n",
    "print(np.tensordot(A, B, axes=1).shape)\n",
    "print(np.tensordot(A, B, axes=0).shape)"
   ]
  },
  {
   "cell_type": "code",
   "execution_count": 22,
   "metadata": {},
   "outputs": [
    {
     "name": "stdout",
     "output_type": "stream",
     "text": [
      "60\n",
      "60\n",
      "\n",
      "[[ 0  5 10 15 20]\n",
      " [ 1  6 11 16 21]\n",
      " [ 2  7 12 17 22]\n",
      " [ 3  8 13 18 23]\n",
      " [ 4  9 14 19 24]]\n",
      "[[ 0  5 10 15 20]\n",
      " [ 1  6 11 16 21]\n",
      " [ 2  7 12 17 22]\n",
      " [ 3  8 13 18 23]\n",
      " [ 4  9 14 19 24]]\n",
      "\n",
      "40\n",
      "40\n",
      "\n",
      "[ 0  6 12 18 24]\n",
      "[ 0  6 12 18 24]\n",
      "\n",
      "[50 55 60 65 70]\n",
      "[50 55 60 65 70]\n",
      "\n",
      "[ 30  80 130 180 230]\n",
      "[ 30  80 130 180 230]\n",
      "\n",
      "[[ 0  0  0  0  0]\n",
      " [ 1  2  3  4  5]\n",
      " [ 2  4  6  8 10]\n",
      " [ 3  6  9 12 15]\n",
      " [ 4  8 12 16 20]]\n",
      "[[ 0  0  0  0  0]\n",
      " [ 1  2  3  4  5]\n",
      " [ 2  4  6  8 10]\n",
      " [ 3  6  9 12 15]\n",
      " [ 4  8 12 16 20]]\n",
      "\n",
      "[[10 28 46 64]\n",
      " [13 40 67 94]]\n",
      "[[10 28 46 64]\n",
      " [13 40 67 94]]\n",
      "\n",
      "[[ 816  852  888  924]\n",
      " [2112 2229 2346 2463]]\n",
      "[[ 816  852  888  924]\n",
      " [2112 2229 2346 2463]]\n"
     ]
    }
   ],
   "source": [
    "# einsum\n",
    "A = np.arange(25).reshape(5,5)\n",
    "b = np.arange(5)\n",
    "b2 = np.arange(5) + 1\n",
    "\n",
    "# トレース\n",
    "print(np.einsum('ii', A))   # C = \\sum_{i} a_{ii}\n",
    "print(np.trace(A))\n",
    "print()\n",
    "\n",
    "# 転置\n",
    "print(np.einsum('ji', A))   # c_{ij} = a_{ji}\n",
    "print(A.T)\n",
    "print()\n",
    "\n",
    "# 内積\n",
    "print(np.einsum('i,i', b, b2))  # C = \\sum_{i} b_{i}*b2_{i}\n",
    "print(np.inner(b, b2))\n",
    "print()\n",
    "\n",
    "# 対角成分\n",
    "print(np.einsum('ii->i', A))    # c_{i} = a_{ii}\n",
    "print(np.diag(A))\n",
    "print()\n",
    "\n",
    "# 軸指定和\n",
    "print(np.einsum('ij->j', A))    # c_{j} = \\sum_{i} a_{ij}\n",
    "print(np.sum(A, axis=0))\n",
    "print()\n",
    "\n",
    "# 行列ベクトル積\n",
    "print(np.einsum('ij,j->i', A, b))   # c_{i} = \\sum_{j} a_{ij}*b_{j}\n",
    "print(np.matmul(A, b))\n",
    "print()\n",
    "\n",
    "# outer product（いわゆる直積で、クロス積ではない）\n",
    "print(np.einsum('i,j->ij', b, b2))  # c_{ij} = b_{i}*b2_{j}\n",
    "print(np.outer(b, b2))\n",
    "print()\n",
    "\n",
    "# 行列積（matmul）\n",
    "A = np.arange(6).reshape((3,2))\n",
    "B = np.arange(12).reshape((4,3))\n",
    "print(np.einsum('ij,ki->jk', A, B))     # c_{jk} = \\sum_{i} a_{ij}*b_{ki}\n",
    "print(np.matmul(A.T, B.T))\n",
    "print()\n",
    "\n",
    "# テンソル積（tensordot）\n",
    "A = np.arange(18).reshape(2,3,3)\n",
    "B = np.arange(36).reshape(3,3,4)\n",
    "print(np.einsum('ijk,jkl->il', A, B))   # c_{il} = \\sum_{j,k} a_{ijk}*b_{jkl}\n",
    "print(np.tensordot(A, B))"
   ]
  },
  {
   "cell_type": "markdown",
   "metadata": {},
   "source": [
    "#### !!! 注意 !!!（einsumとnewaxisや他の関数の使い分け）\n",
    "einsumは先程の通り柔軟な表現力を持つ大変強力な関数ですから、\n",
    "\n",
    "「einsumさえあればnewaxisによるBroadcastingやmatmulなど他の関数は不要だ」\n",
    "\n",
    "と感じる人もいるかもしれません。ですが、\n",
    "\n",
    "- 既に行列やベクトルの演算に対してはnewaxisを用いる方法やmatmul等の特定の演算用の関数が普及している\n",
    "\n",
    "- 通常の行列やベクトルの演算にeinsumで対応するのは大げさで、コードも長くなりがち\n",
    "\n",
    "等の理由からeinsumの濫用は望ましくありません。ただやはり、\n",
    "\n",
    "- テンソルの演算に限れば、einsumとそれ以外の普及度の差が小さい\n",
    "\n",
    "- テンソルの演算では大概演算が複雑で、newaxisやmatmul等の関数を使用すると演算内容が分かりずらく、コードの健全性を損ねる\n",
    "\n",
    "というのも事実です。そこで本講座では\n",
    "\n",
    "- 演算結果が行列やベクトル＝newaxisやmatmul等の関数\n",
    "\n",
    "- 演算結果が(3階以上の)テンソル＝einsum\n",
    "\n",
    "という使い分けの基準に沿って進めていきます。\n",
    "\n",
    "(matmulとdotは3階以上のテンソルが出現する場合に違いが現れますが、こうした場合einsumを使用するべきでしょう)"
   ]
  },
  {
   "cell_type": "markdown",
   "metadata": {},
   "source": [
    "### Broadcasting"
   ]
  },
  {
   "cell_type": "markdown",
   "metadata": {},
   "source": [
    "#### - 概要\n",
    "\n",
    "次元（や次元の長さ）の違う行列やベクトル間で、計算が成立するように\"うまく\"次元（や次元の長さ）を拡張してくれる機能。\n",
    "\n",
    "例えば、`W.shape = (M,N)`, `x.shape = (1,N)`の場合、`W+x` は本来そのままでは計算できません。(`∵ W.shape ≠ x.shape`)\n",
    "\n",
    "numpyでは暗黙に`x`について (1,N) => (M, N) と `x` をM回複製する事で `x` を `W` の`shape`に合わせてくれます。\n",
    "\n",
    "※ 通常のN要素配列の`shape`は(N,)ですが、Broadcastingに際しては行ベクトル(1,N)として解釈されます（numpyのみ）\n",
    "\n",
    "参考：\n",
    "- https://docs.scipy.org/doc/numpy/user/basics.broadcasting.html\n",
    "- http://sucrose.hatenablog.com/entry/2014/12/15/000352"
   ]
  },
  {
   "cell_type": "code",
   "execution_count": 23,
   "metadata": {},
   "outputs": [
    {
     "name": "stdout",
     "output_type": "stream",
     "text": [
      "[[7. 8. 9.]\n",
      " [7. 8. 9.]]\n",
      "[[7. 8. 9.]\n",
      " [7. 8. 9.]]\n",
      "\n",
      "[[ 7 16 27]\n",
      " [28 40 54]]\n",
      "\n",
      "[[7. 8. 9.]\n",
      " [7. 8. 9.]]\n",
      "[[7. 8. 9.]\n",
      " [7. 8. 9.]]\n",
      "\n",
      "[[ 8 10 12]\n",
      " [11 13 15]]\n"
     ]
    }
   ],
   "source": [
    "W = np.array([[1, 2, 3], [4, 5, 6]])\n",
    "x = np.array([7, 8, 9])\n",
    "\n",
    "print(np.ones((2,3))*x)\n",
    "print(x*np.ones((2,3)))\n",
    "print()\n",
    "\n",
    "print(W * x)\n",
    "print()\n",
    "\n",
    "print(np.zeros((2,3))+x)\n",
    "print(x+np.zeros((2,3)))\n",
    "print()\n",
    "\n",
    "print(W + x)"
   ]
  },
  {
   "cell_type": "markdown",
   "metadata": {},
   "source": [
    "#### - numpy.newaxis\n",
    "\n",
    "numpy.newaxisは配列や行列に対して新しい次元を追加できるオブジェクト。\n",
    "\n",
    "例えば、N次元配列 `x` を考えると `x.shape = (N,)` ですが、numpy.newaxisを用いることで、\n",
    "\n",
    "行ベクトル `x[numpy.newaxis, :].shape = (1,N)` としたり、\n",
    "\n",
    "列ベクトル `x[:, numpy.newaxis].shape = (N,1)` としたりすることが可能です。"
   ]
  },
  {
   "cell_type": "code",
   "execution_count": 24,
   "metadata": {},
   "outputs": [
    {
     "name": "stdout",
     "output_type": "stream",
     "text": [
      "(2, 3)\n",
      "(3, 2)\n",
      "\n",
      "(3,)\n",
      "(3,)\n",
      "\n",
      "[[7 8 9]]\n",
      "(1, 3)\n",
      "(3, 1)\n",
      "\n",
      "[[7]\n",
      " [8]\n",
      " [9]]\n",
      "(3, 1)\n",
      "(1, 3)\n",
      "\n",
      "(1, 3)\n"
     ]
    }
   ],
   "source": [
    "W = np.array([[1, 2, 3], [4, 5, 6]])\n",
    "x = np.array([7, 8, 9])\n",
    "\n",
    "print(W.shape)\n",
    "print(W.T.shape)\n",
    "print()\n",
    "\n",
    "print(x.shape)\n",
    "print(x.T.shape)  # x と x.T の shape は同じ\n",
    "print()\n",
    "\n",
    "print(x[np.newaxis, :])  # two dimension\n",
    "print(x[np.newaxis, :].shape)\n",
    "print(x[np.newaxis, :].T.shape)\n",
    "print()\n",
    "\n",
    "print(x[:, np.newaxis])  # two dimension with different shape\n",
    "print(x[:, np.newaxis].shape)\n",
    "print(x[:, np.newaxis].T.shape)\n",
    "print()\n",
    "\n",
    "print(x[np.newaxis].shape)  # x[np.newaxis,:]と同じ"
   ]
  },
  {
   "cell_type": "markdown",
   "metadata": {},
   "source": [
    "#### - numpy.newaxisを使ったbroadcasting"
   ]
  },
  {
   "cell_type": "code",
   "execution_count": 25,
   "metadata": {},
   "outputs": [
    {
     "name": "stdout",
     "output_type": "stream",
     "text": [
      "[[7. 8. 9.]\n",
      " [7. 8. 9.]\n",
      " [7. 8. 9.]]\n",
      "[[7. 8. 9.]\n",
      " [7. 8. 9.]\n",
      " [7. 8. 9.]]\n",
      "[[7. 7. 7.]\n",
      " [8. 8. 8.]\n",
      " [9. 9. 9.]]\n",
      "\n",
      "[[0 1 2]\n",
      " [3 4 5]\n",
      " [6 7 8]]\n",
      "[[ 0  8 18]\n",
      " [21 32 45]\n",
      " [42 56 72]]\n",
      "[[ 0  8 18]\n",
      " [21 32 45]\n",
      " [42 56 72]]\n",
      "[[ 0  7 14]\n",
      " [24 32 40]\n",
      " [54 63 72]]\n"
     ]
    }
   ],
   "source": [
    "x = np.array([7, 8, 9])\n",
    "\n",
    "print(np.ones((3,3))*x)                 # x:(3,)->(1,3)->(3,3)\n",
    "print(np.ones((3,3))*x[np.newaxis, :])  # x:(1,3)->(3,3)\n",
    "print(np.ones((3,3))*x[:, np.newaxis])  # x:(3,1)->(3,3)\n",
    "print()\n",
    "\n",
    "A = np.arange(9).reshape(3,3)\n",
    "print(A)\n",
    "print(A*x)\n",
    "print(A*x[np.newaxis, :])\n",
    "print(A*x[:, np.newaxis])"
   ]
  },
  {
   "cell_type": "markdown",
   "metadata": {},
   "source": [
    "※ 先述の通り、Broadcastingに際してN要素の配列は<u>numpyでは</u>(1,N)として解釈されます。\n",
    "\n",
    "　 しかし、本来N要素の配列は(N,1)と(1,N)のどちらかは区別がつくものではなく、<u>実際次週以降に扱うTensorFlowでは明示的にする必要があります。</u>"
   ]
  },
  {
   "cell_type": "markdown",
   "metadata": {},
   "source": [
    "#### - Broadcastingの一般論\n",
    "\n",
    "ここまで2次元までの単純な例を取り上げました。そろそろ慣れてきたところでBroadcastingの一般的なルールを次に示しましょう。\n",
    "\n",
    "1. 各入力配列の次元数を最大の次元数に揃える。具体的には、足りない次元数だけ大きさ1の次元を\"頭に\"追加することで行う。\n",
    "    \n",
    "    （例）(2,3) + (3,) ⇒ (2,3) + (1,3)\n",
    "    \n",
    "    　　　(2,3,4,5) + (4,5) ⇒ (2,3,4,5) + (1,1,4,5)\n",
    "<br />\n",
    "<br />\n",
    "2. 出力配列の各次元の大きさを入力配列の次元の大きさの最大値により決める。\n",
    "    \n",
    "    （例）(3,1) + (3,) ⇒ (<u>3</u>,1) + (1,<u>3</u>)  ∴出力次元は(3,3)\n",
    "    \n",
    "    　　　(2,3,1,5) + (4,5) ⇒ (<u>2</u>,<u>3</u>,1,<u>5</u>) + (1,1,<u>4</u>,<u>5</u>)  ∴出力次元は(2,3,4,5)\n",
    "<br />\n",
    "<br />\n",
    "3. 全ての入力配列について、各次元の大きさが1であるか、対応する出力配列の次元の大きさに一致すればBroadcasting可能。\n",
    "    \n",
    "    （例）(3,1) + (3,) ⇒ (<u>3</u>,1) + (1,<u>3</u>)  ∴出力次元は(3,3)\n",
    "    \n",
    "    　　　　(3,1)は0次元目は3で出力配列に一致、1次元目は1なので問題ない。(3,)=(1,3)も同様に問題ないのでBroadcasting可能。\n",
    "    \n",
    "    　　　(2,3,1,3) + (4,5) ⇒ (<u>2</u>,<u>3</u>,1,3) + (1,1,<u>4</u>,<u>5</u>)  ∴出力次元は(2,3,4,5)\n",
    "       \n",
    "    　　　　(2,3,1,3)は3次元目が3(≠1)であるが出力配列の3次元目は5なのでBroadcasting不可能。\n",
    "<br />\n",
    "<br />\n",
    "4. 各入力配列について、大きさが1である次元に関して複製を行い、出力次元に合わせる。\n",
    "\n",
    "参考：\n",
    "- http://docs.scipy.org/doc/numpy/reference/ufuncs.html#broadcasting"
   ]
  },
  {
   "cell_type": "code",
   "execution_count": 26,
   "metadata": {},
   "outputs": [
    {
     "name": "stdout",
     "output_type": "stream",
     "text": [
      "[[7. 8. 9.]\n",
      " [7. 8. 9.]]\n",
      "[[7. 8. 9.]\n",
      " [7. 8. 9.]]\n",
      "[[7. 7.]\n",
      " [8. 8.]\n",
      " [9. 9.]]\n",
      "\n",
      "[[7. 8. 9.]\n",
      " [7. 8. 9.]\n",
      " [7. 8. 9.]]\n",
      "[[7. 7. 7.]\n",
      " [8. 8. 8.]\n",
      " [9. 9. 9.]]\n",
      "[[49 56 63]\n",
      " [56 64 72]\n",
      " [63 72 81]]\n",
      "\n",
      "[[ 8 11]\n",
      " [10 13]\n",
      " [12 15]]\n"
     ]
    }
   ],
   "source": [
    "W = np.array([[1, 2, 3], [4, 5, 6]])\n",
    "x = np.array([7, 8, 9])\n",
    "\n",
    "print(np.ones((2,3))*x)                 # x:(3,)->(1,3)->(2,3)\n",
    "print(np.ones((2,3))*x[np.newaxis, :])  # x:(1,3)->(2,3)\n",
    "#print(np.ones((2,3))*x[:, np.newaxis]) # x:(3,1)->(2,3) unable\n",
    "#print(np.ones((3,2))*x)                # x:(3,)->(1,3)->(3,2) unable\n",
    "#print(np.ones((3,2))*x[np.newaxis, :]) # x:(1,3)->(3,2) unable\n",
    "print(np.ones((3,2))*x[:, np.newaxis])  # x:(3,1)->(3,2)\n",
    "print()\n",
    "\n",
    "print(np.ones((3,3)) * x)\n",
    "print(x[:, np.newaxis] * np.ones((3,3)))\n",
    "print(x[:, np.newaxis] * x)\n",
    "print()\n",
    "\n",
    "print(W.T + x[np.newaxis, :].T)"
   ]
  },
  {
   "cell_type": "code",
   "execution_count": 27,
   "metadata": {},
   "outputs": [
    {
     "name": "stdout",
     "output_type": "stream",
     "text": [
      "[[[ 1.  0. -1.]\n",
      "  [ 1.  0. -1.]\n",
      "  [ 1.  0. -1.]]\n",
      "\n",
      " [[ 1.  0. -1.]\n",
      "  [ 1.  0. -1.]\n",
      "  [ 1.  0. -1.]]]\n",
      "[[[ 1.  1.  1.]\n",
      "  [ 0.  0.  0.]\n",
      "  [-1. -1. -1.]]\n",
      "\n",
      " [[ 1.  1.  1.]\n",
      "  [ 0.  0.  0.]\n",
      "  [-1. -1. -1.]]]\n",
      "\n",
      "[[[ 0  1  2]\n",
      "  [ 3  4  5]\n",
      "  [ 6  7  8]]\n",
      "\n",
      " [[ 9 10 11]\n",
      "  [12 13 14]\n",
      "  [15 16 17]]]\n",
      "[[[  0   0  -2]\n",
      "  [  3   0  -5]\n",
      "  [  6   0  -8]]\n",
      "\n",
      " [[  9   0 -11]\n",
      "  [ 12   0 -14]\n",
      "  [ 15   0 -17]]]\n",
      "[[[  0   1   2]\n",
      "  [  0   0   0]\n",
      "  [ -6  -7  -8]]\n",
      "\n",
      " [[  9  10  11]\n",
      "  [  0   0   0]\n",
      "  [-15 -16 -17]]]\n"
     ]
    }
   ],
   "source": [
    "# 3階テンソルの例\n",
    "A = np.arange(2*3*3).reshape(2,3,3)\n",
    "b = np.array([1, 0, -1])\n",
    "\n",
    "print(np.ones((2,3,3)) * b)\n",
    "print(np.ones((2,3,3)) * b[:, np.newaxis])\n",
    "print()\n",
    "\n",
    "print(A)\n",
    "print(A*b)\n",
    "print(A*b[:, np.newaxis])"
   ]
  },
  {
   "cell_type": "markdown",
   "metadata": {},
   "source": [
    "### 乱数生成\n",
    "\n",
    "乱数の生成にはnumpy.randomモジュールを使用します。\n",
    "\n",
    "Pythonの標準モジュールでも乱数発生ができますが、numpyを用いたほうが使える分布の種類が多い上、ベクトル演算にも対応しています。"
   ]
  },
  {
   "cell_type": "code",
   "execution_count": 28,
   "metadata": {},
   "outputs": [
    {
     "name": "stdout",
     "output_type": "stream",
     "text": [
      "[ -2.56099657  -3.91700683  -0.07002029  -2.98378438  14.47015313\n",
      "   3.06471019  -8.22053053  -2.4037031   -0.24342739 -10.28536231]\n",
      "0.09951687891859701\n",
      "9.96643227425949\n"
     ]
    }
   ],
   "source": [
    "# ガウス分布\n",
    "r = np.random.normal(0, 10, 10000)  # この数字を色々変えてみましょう。\n",
    "print(r[:10])\n",
    "print(np.mean(r))\n",
    "print(np.std(r))"
   ]
  },
  {
   "cell_type": "code",
   "execution_count": 29,
   "metadata": {},
   "outputs": [
    {
     "name": "stdout",
     "output_type": "stream",
     "text": [
      "[-9.2960209  -9.00569012  8.86706472  0.23863762  2.27898755 -3.56027345\n",
      " -6.34520336 -3.50003856  5.59371669 -8.49846081]\n",
      "0.0598710245863023\n",
      "5.795405456272956\n"
     ]
    }
   ],
   "source": [
    "# 一様乱数\n",
    "r = np.random.uniform(-10, 10, 10000)  # この数字を変えてみよう。\n",
    "print(r[:10])\n",
    "print(np.mean(r))\n",
    "print(np.std(r))"
   ]
  },
  {
   "cell_type": "markdown",
   "metadata": {},
   "source": [
    "#### - 乱数シード\n",
    "\n",
    "乱数を用いて実験を行うと都度実験結果が異なってしまうので、結果を適切に評価できなくなってしまいます。\n",
    "\n",
    "そのため機械学習や深層学習の実験では、乱数シードの設定を始めに行い、疑似乱数に再現性を持たせることが多いです。\n",
    "\n",
    "乱数シードの設定は`numpy.random.seed`関数によって行います。これにより`numpy.random`以下の関数がいつも同じ乱数系列を生成するようになります。"
   ]
  },
  {
   "cell_type": "code",
   "execution_count": 30,
   "metadata": {},
   "outputs": [
    {
     "name": "stdout",
     "output_type": "stream",
     "text": [
      "[ 8.59232186 -3.67248891 -6.32162377 -5.90879443  1.35450058  1.91089406\n",
      "  9.29029039  3.06354194  4.97813275  3.07139742]\n",
      "[ 4.95429619  9.22613472 -9.83223404 -7.87111247 -4.02592572  3.12822366\n",
      "  6.19625105  7.44351827  9.29295195  4.47370694]\n",
      "\n",
      "[ 8.59232186 -3.67248891 -6.32162377 -5.90879443  1.35450058  1.91089406\n",
      "  9.29029039  3.06354194  4.97813275  3.07139742]\n",
      "[ 4.95429619  9.22613472 -9.83223404 -7.87111247 -4.02592572  3.12822366\n",
      "  6.19625105  7.44351827  9.29295195  4.47370694]\n"
     ]
    }
   ],
   "source": [
    "np.random.seed(12345)  # ここをコメントアウトすると？, (12345) => ()にすると？\n",
    "\n",
    "print(np.random.uniform(-10, 10, 10))\n",
    "print(np.random.uniform(-10, 10, 10))\n",
    "print()\n",
    "\n",
    "np.random.seed(12345)  # ここをコメントアウトすると？, (12345) => ()にすると？\n",
    "print(np.random.uniform(-10, 10, 10))\n",
    "print(np.random.uniform(-10, 10, 10))"
   ]
  },
  {
   "cell_type": "markdown",
   "metadata": {},
   "source": [
    "#### - RandomState\n",
    "\n",
    "`numpy.random.RandomState`クラスを用いれば、乱数シードの環境をカプセル化できます。特に目的別に乱数を発生させるといった状況で役立ちます。\n",
    "\n",
    "使い方としてはRandomStateのオブジェクトから、先程の`numpy.random`以下と同様の関数にアクセスできます。\n",
    "\n",
    "また後述するscikit-learnでは、RandomStateのオブジェクトを受け渡しすることで、ランダムな関数の挙動に再現性を持たせることができます。"
   ]
  },
  {
   "cell_type": "code",
   "execution_count": 31,
   "metadata": {},
   "outputs": [
    {
     "name": "stdout",
     "output_type": "stream",
     "text": [
      "[ 8.59232186 -3.67248891 -6.32162377 -5.90879443  1.35450058  1.91089406\n",
      "  9.29029039  3.06354194  4.97813275  3.07139742]\n",
      "[ 4.95429619  9.22613472 -9.83223404 -7.87111247 -4.02592572  3.12822366\n",
      "  6.19625105  7.44351827  9.29295195  4.47370694]\n",
      "\n",
      "[ 0.84578049  5.64367245  0.44059251  0.33393034 -1.80405724 -4.56083613\n",
      " -2.73392837 -9.36402673  4.4305078  -6.55518693]\n",
      "[-1.1840454   3.20314396  2.40456073 -9.55762214  5.13698461  5.57364422\n",
      "  3.90790728  6.15656489  9.020494   -3.01633592]\n"
     ]
    }
   ],
   "source": [
    "rng0 = np.random.RandomState(12345)\n",
    "rng1 = np.random.RandomState(34567)\n",
    "\n",
    "print(rng0.uniform(-10, 10, 10))\n",
    "print(rng0.uniform(-10, 10, 10))\n",
    "print()\n",
    "print(rng1.uniform(-10, 10, 10))\n",
    "print(rng1.uniform(-10, 10, 10))"
   ]
  },
  {
   "cell_type": "markdown",
   "metadata": {},
   "source": [
    "## 問題 1"
   ]
  },
  {
   "cell_type": "markdown",
   "metadata": {},
   "source": [
    "### 1-1. \n",
    "\n",
    "```\n",
    "x = np.array([7, 8, 9])\n",
    "W = np.array([[1, 2, 3], [4, 5, 6]])\n",
    "```\n",
    "\n",
    "と同様の `x`, `W` を得るように `np.arange` を用いてコードを書いてください。"
   ]
  },
  {
   "cell_type": "code",
   "execution_count": 32,
   "metadata": {},
   "outputs": [
    {
     "name": "stdout",
     "output_type": "stream",
     "text": [
      "[7 8 9]\n",
      "[[1 2 3]\n",
      " [4 5 6]]\n"
     ]
    }
   ],
   "source": [
    "# write down your code\n",
    "x = np.arange(7, 10)\n",
    "W = np.arange(1,7).reshape(2, 3)\n",
    "print(x)\n",
    "print(W)"
   ]
  },
  {
   "cell_type": "markdown",
   "metadata": {},
   "source": [
    "### 1-2.\n",
    "\n",
    "以下のような表式を得るように `W` を変形してください。\n",
    "\n",
    "```\n",
    "[[ 1.  0. -1.]\n",
    "[ 4.  3.  2.]]\n",
    "```\n",
    "\n",
    "<small>ヒント: 縦の差は3,横の差は-1</small>"
   ]
  },
  {
   "cell_type": "code",
   "execution_count": 33,
   "metadata": {},
   "outputs": [
    {
     "name": "stdout",
     "output_type": "stream",
     "text": [
      "[[ 1  0 -1]\n",
      " [ 4  3  2]]\n"
     ]
    }
   ],
   "source": [
    "# write down your code\n",
    "print(W[:, ::-1] - 2)"
   ]
  },
  {
   "cell_type": "markdown",
   "metadata": {},
   "source": [
    "### 1-3.\n",
    "\n",
    "エディントンのイプシロン - Wikipedia\n",
    "\n",
    "https://goo.gl/8G6gn2\n",
    "\n",
    "上の「エディントンのイプシロン（Levi-Civita記号）」の記事を参考にして、\n",
    "\n",
    "「エディントンのイプシロン」を用いてベクトルの外積（クロス積）を実装してください。"
   ]
  },
  {
   "cell_type": "code",
   "execution_count": 34,
   "metadata": {},
   "outputs": [
    {
     "name": "stdout",
     "output_type": "stream",
     "text": [
      "[ 7. -6.  1.]\n",
      "[ 7 -6  1]\n"
     ]
    }
   ],
   "source": [
    "# write down your code\n",
    "def my_cross(u, v):\n",
    "    eps = np.zeros((3, 3, 3))\n",
    "    eps[0, 1, 2] = eps[1, 2, 0] = eps[2, 0, 1] = 1\n",
    "    eps[0, 2, 1] = eps[2, 1, 0] = eps[1, 0, 2] = -1\n",
    "    return np.einsum('ijk,j,k->i', eps, u, v)\n",
    "\n",
    "u = np.array([2,3,4])\n",
    "v = np.array([1,2,5])\n",
    "print(my_cross(u, v))\n",
    "print(np.cross(u, v))"
   ]
  },
  {
   "cell_type": "markdown",
   "metadata": {},
   "source": [
    "## 2. matplotlib\n",
    "\n",
    "matplotlibはnumpy向けに作られたグラフ描画ライブラリで、データを用意すれば比較的簡単に様々なグラフを作成できます。\n",
    "\n",
    "その中核を担っているのが matplotlib.pyplot モジュールで、特にplot関数は2Dグラフの作成において最も標準的に用いられます。\n",
    "\n",
    "参考：\n",
    "- http://matplotlib.org/users/pyplot_tutorial.html\n",
    "- http://matplotlib.org/1.4.1/examples/index.html"
   ]
  },
  {
   "cell_type": "markdown",
   "metadata": {},
   "source": [
    "### インポート"
   ]
  },
  {
   "cell_type": "code",
   "execution_count": 35,
   "metadata": {
    "collapsed": true
   },
   "outputs": [],
   "source": [
    "import matplotlib.pyplot as plt\n",
    "\n",
    "# グラフをipython notebook内に表示\n",
    "%matplotlib inline"
   ]
  },
  {
   "cell_type": "markdown",
   "metadata": {},
   "source": [
    "### plot関数の使い方例"
   ]
  },
  {
   "cell_type": "code",
   "execution_count": 36,
   "metadata": {},
   "outputs": [
    {
     "data": {
      "image/png": "[encoded data removed]",
      "text/plain": [
       "<Figure size 432x288 with 1 Axes>"
      ]
     },
     "metadata": {},
     "output_type": "display_data"
    }
   ],
   "source": [
    "x = np.arange(-2*3.14, 2*3.14, 0.1)\n",
    "y = np.cos(x)\n",
    "plt.plot(x, y)\n",
    "plt.show()      # グラフの表示"
   ]
  },
  {
   "cell_type": "markdown",
   "metadata": {},
   "source": [
    "※ サンプリングが細かいため滑らかに見えるが、実際は折れ線"
   ]
  },
  {
   "cell_type": "code",
   "execution_count": 37,
   "metadata": {},
   "outputs": [
    {
     "data": {
      "image/png": "[encoded data removed]",
      "text/plain": [
       "<Figure size 432x288 with 1 Axes>"
      ]
     },
     "metadata": {},
     "output_type": "display_data"
    }
   ],
   "source": [
    "y1 = [0, 2, 1]\n",
    "y2 = [1, 3, 4]\n",
    "\n",
    "plt.plot(y1)    # x軸を与えなければインデックスが使われる\n",
    "plt.plot(y2)\n",
    "plt.show()      # 重ねて表示される"
   ]
  },
  {
   "cell_type": "code",
   "execution_count": 38,
   "metadata": {},
   "outputs": [
    {
     "data": {
      "image/png": "[encoded data removed]",
      "text/plain": [
       "<Figure size 432x288 with 1 Axes>"
      ]
     },
     "metadata": {},
     "output_type": "display_data"
    },
    {
     "data": {
      "image/png": "[encoded data removed]",
      "text/plain": [
       "<Figure size 432x288 with 1 Axes>"
      ]
     },
     "metadata": {},
     "output_type": "display_data"
    }
   ],
   "source": [
    "x = [3, 4.5, 5, 6]\n",
    "y = [0, 2, 1, 3]\n",
    "\n",
    "plt.plot(x, y)\n",
    "plt.show()\n",
    "\n",
    "# scatter plot\n",
    "plt.plot(x, y, 'o')\n",
    "plt.show()"
   ]
  },
  {
   "cell_type": "markdown",
   "metadata": {},
   "source": [
    "より細かいプロットの設定については、マニュアルを参照してください。\n",
    "\n",
    "参考：\n",
    "- http://matplotlib.org/api/pyplot_api.html#matplotlib.pyplot.plot"
   ]
  },
  {
   "cell_type": "markdown",
   "metadata": {},
   "source": [
    "### ヒストグラム（pyplot.hist）"
   ]
  },
  {
   "cell_type": "code",
   "execution_count": 39,
   "metadata": {},
   "outputs": [
    {
     "data": {
      "image/png": "[encoded data removed]",
      "text/plain": [
       "<Figure size 432x288 with 1 Axes>"
      ]
     },
     "metadata": {},
     "output_type": "display_data"
    },
    {
     "data": {
      "image/png": "[encoded data removed]",
      "text/plain": [
       "<Figure size 432x288 with 1 Axes>"
      ]
     },
     "metadata": {},
     "output_type": "display_data"
    }
   ],
   "source": [
    "# ガウス分布\n",
    "r = np.random.normal(0, 10, 10000)  # この数字を色々変えてみましょう。\n",
    "plt.hist(r, bins=100)\n",
    "plt.show()\n",
    "\n",
    "# 一様乱数\n",
    "r = np.random.uniform(-10, 10, 10000)  # この数字を変えてみよう。\n",
    "plt.hist(r, bins=100)\n",
    "plt.show()"
   ]
  },
  {
   "cell_type": "markdown",
   "metadata": {},
   "source": [
    "### 2次元画像の扱い（pyplot.imshow）"
   ]
  },
  {
   "cell_type": "code",
   "execution_count": 40,
   "metadata": {},
   "outputs": [
    {
     "data": {
      "image/png": "[encoded data removed]",
      "text/plain": [
       "<Figure size 432x288 with 1 Axes>"
      ]
     },
     "metadata": {},
     "output_type": "display_data"
    }
   ],
   "source": [
    "# By default, largest value is assigned as white, smallest value is assigned as black\n",
    "a = [[1.0, 0.7], [0.2, 0.0]]\n",
    "plt.imshow(a, cmap='gray', interpolation='none')\n",
    "plt.show()"
   ]
  },
  {
   "cell_type": "markdown",
   "metadata": {},
   "source": [
    "### グラフの分割（figure, subplot）"
   ]
  },
  {
   "cell_type": "code",
   "execution_count": 41,
   "metadata": {},
   "outputs": [
    {
     "data": {
      "image/png": "[encoded data removed]",
      "text/plain": [
       "<Figure size 432x288 with 2 Axes>"
      ]
     },
     "metadata": {},
     "output_type": "display_data"
    }
   ],
   "source": [
    "a = [[1.0, 0.7], [0.2, 0.0]]\n",
    "b = [[0.0, 0.2], [0.7, 1.0]]\n",
    "\n",
    "fig = plt.figure()\n",
    "sp = fig.add_subplot(1, 2, 1)  # タテ１　ヨコ２　１番目\n",
    "sp.imshow(a, cmap='gray', interpolation='none')\n",
    "sp = fig.add_subplot(1, 2, 2)  # タテ１　ヨコ２　２番目\n",
    "sp.imshow(b, cmap='gray', interpolation='none')\n",
    "plt.show()"
   ]
  },
  {
   "cell_type": "markdown",
   "metadata": {},
   "source": [
    "## 3. scikit-learn（sklearn）\n",
    "\n",
    "Pythonの機械学習ライブラリであり、様々な手法をサポートしているだけでなく、機械学習を行う上での便利機能も充実している。\n",
    "\n",
    "深層学習についてはサポートされていないので、本講座では主に便利機能を中心に利用することになる。\n",
    "\n",
    "参考：\n",
    "- http://scikit-learn.org/stable/"
   ]
  },
  {
   "cell_type": "markdown",
   "metadata": {},
   "source": [
    "### shuffle\n",
    "\n",
    "in-placeでnumpy配列の要素の順番をランダムに入れ替えるscikit-learnの関数\n",
    "\n",
    "ランダムネスはnumpy.randomモジュールによって決まるので、seedの指定がやはり機能する\n",
    "\n",
    "また、scikit-learnの関数でランダムネスがあるものは基本的に引数でRandomStateを指定でき、目的別の乱数生成などに使用可能"
   ]
  },
  {
   "cell_type": "code",
   "execution_count": 3,
   "metadata": {},
   "outputs": [
    {
     "name": "stdout",
     "output_type": "stream",
     "text": [
      "[1, 3, 8, 0, 6, 2, 9, 5, 7, 4]\n",
      "[7, 2, 8, 4, 6, 1, 0, 3, 5, 9]\n",
      "\n",
      "[0, 7, 3, 9, 6, 4, 1, 8, 5, 2]\n",
      "[4, 0, 9, 5, 7, 3, 8, 6, 1, 2]\n",
      "\n",
      "[0, 7, 3, 9, 6, 4, 1, 8, 5, 2]\n",
      "[4, 0, 9, 5, 7, 3, 8, 6, 1, 2]\n",
      "\n",
      "[0, 7, 3, 9, 6, 4, 1, 8, 5, 2]\n",
      "[3, 0, 5, 1, 7, 8, 4, 9, 6, 2]\n",
      "[4, 0, 9, 5, 7, 3, 8, 6, 1, 2]\n",
      "[9, 7, 4, 1, 6, 5, 2, 0, 8, 3]\n",
      "\n",
      "[3, 0, 5, 1, 7, 8, 4, 9, 6, 2]\n",
      "[9, 7, 4, 1, 6, 5, 2, 0, 8, 3]\n",
      "[0, 7, 3, 9, 6, 4, 1, 8, 5, 2]\n",
      "[4, 0, 9, 5, 7, 3, 8, 6, 1, 2]\n"
     ]
    }
   ],
   "source": [
    "from sklearn.utils import shuffle\n",
    "\n",
    "np.random.seed()\n",
    "print(shuffle(range(10)))\n",
    "print(shuffle(range(10)))\n",
    "print()\n",
    "\n",
    "np.random.seed(12345)\n",
    "print(shuffle(range(10)))\n",
    "print(shuffle(range(10)))\n",
    "print()\n",
    "\n",
    "np.random.seed(12345)\n",
    "print(shuffle(range(10)))\n",
    "print(shuffle(range(10)))\n",
    "print()\n",
    "\n",
    "rng0 = np.random.RandomState(12345)\n",
    "rng1 = np.random.RandomState(34567)\n",
    "\n",
    "print(shuffle(range(10), random_state=rng0))\n",
    "print(shuffle(range(10), random_state=rng1))\n",
    "print(shuffle(range(10), random_state=rng0))\n",
    "print(shuffle(range(10), random_state=rng1))\n",
    "print()\n",
    "\n",
    "\n",
    "rng0 = np.random.RandomState(12345)\n",
    "rng1 = np.random.RandomState(34567)\n",
    "\n",
    "print(shuffle(range(10), random_state=rng1))\n",
    "print(shuffle(range(10), random_state=rng1))\n",
    "print(shuffle(range(10), random_state=rng0))\n",
    "print(shuffle(range(10), random_state=rng0))"
   ]
  },
  {
   "cell_type": "markdown",
   "metadata": {},
   "source": [
    "### train_test_split\n",
    "\n",
    "学習データとテストデータを高速に分割してくれる"
   ]
  },
  {
   "cell_type": "code",
   "execution_count": 4,
   "metadata": {},
   "outputs": [
    {
     "name": "stdout",
     "output_type": "stream",
     "text": [
      "ABCDE\n",
      "\n",
      "[3, 1, 2]\n",
      "['D', 'B', 'C']\n",
      "\n",
      "[4, 0]\n",
      "['E', 'A']\n"
     ]
    }
   ],
   "source": [
    "from sklearn.model_selection import train_test_split\n",
    "import string\n",
    "\n",
    "lettersAtoE = string.ascii_uppercase[:5]\n",
    "print(lettersAtoE)\n",
    "print()\n",
    "\n",
    "train0to4, test0to4, trainAtoE, testAtoE = train_test_split(range(5), lettersAtoE)\n",
    "\n",
    "# ABCDEを01234と読みかえるとどうなるか？\n",
    "print(train0to4)\n",
    "print(trainAtoE)\n",
    "print()\n",
    "\n",
    "print(test0to4)\n",
    "print(testAtoE)"
   ]
  },
  {
   "cell_type": "markdown",
   "metadata": {},
   "source": [
    "### データセットの取得\n",
    "\n",
    "scikit-learnには幾つかの著名なデータセットが付属しており、`sklearn.datasets.load_(データセット名)`という関数で簡単に使える。\n",
    "\n",
    "またそれ以外にも、mldata.orgという機械学習データのリポジトリにあるデータセットは`sklearn.datasets.fetch_mldata`関数により簡単に取得可能である。\n",
    "\n",
    "ここでは、かの有名な手書き数字データセットMNISTを`fetch_mldata`関数によって取得してみよう。\n",
    "\n",
    "参考：\n",
    "- http://yann.lecun.com/exdb/mnist/"
   ]
  },
  {
   "cell_type": "code",
   "execution_count": 18,
   "metadata": {},
   "outputs": [
    {
     "ename": "HTTPError",
     "evalue": "HTTP Error 404: Dataset 'mnist-original' not found on mldata.org.",
     "output_type": "error",
     "traceback": [
      "\u001b[1;31m---------------------------------------------------------------------------\u001b[0m",
      "\u001b[1;31mHTTPError\u001b[0m                                 Traceback (most recent call last)",
      "\u001b[1;32m<ipython-input-18-57b411819dc0>\u001b[0m in \u001b[0;36m<module>\u001b[1;34m()\u001b[0m\n\u001b[0;32m      3\u001b[0m \u001b[1;31m# load data on your directry ~/scikit_learn_data/mldata/\u001b[0m\u001b[1;33m\u001b[0m\u001b[1;33m\u001b[0m\u001b[0m\n\u001b[0;32m      4\u001b[0m \u001b[1;31m# if data does'nt exist, it downloads the data from site.\u001b[0m\u001b[1;33m\u001b[0m\u001b[1;33m\u001b[0m\u001b[0m\n\u001b[1;32m----> 5\u001b[1;33m \u001b[0mmnist\u001b[0m \u001b[1;33m=\u001b[0m \u001b[0mfetch_mldata\u001b[0m\u001b[1;33m(\u001b[0m\u001b[1;34m'MNIST original'\u001b[0m\u001b[1;33m)\u001b[0m\u001b[1;33m\u001b[0m\u001b[0m\n\u001b[0m\u001b[0;32m      6\u001b[0m \u001b[1;33m\u001b[0m\u001b[0m\n\u001b[0;32m      7\u001b[0m \u001b[1;31m# mnist.dataにはたくさんの画像データ（手書き数字）が入っている。\u001b[0m\u001b[1;33m\u001b[0m\u001b[1;33m\u001b[0m\u001b[0m\n",
      "\u001b[1;32m~\\Anaconda3\\lib\\site-packages\\sklearn\\datasets\\mldata.py\u001b[0m in \u001b[0;36mfetch_mldata\u001b[1;34m(dataname, target_name, data_name, transpose_data, data_home)\u001b[0m\n\u001b[0;32m    152\u001b[0m         \u001b[0murlname\u001b[0m \u001b[1;33m=\u001b[0m \u001b[0mMLDATA_BASE_URL\u001b[0m \u001b[1;33m%\u001b[0m \u001b[0mquote\u001b[0m\u001b[1;33m(\u001b[0m\u001b[0mdataname\u001b[0m\u001b[1;33m)\u001b[0m\u001b[1;33m\u001b[0m\u001b[0m\n\u001b[0;32m    153\u001b[0m         \u001b[1;32mtry\u001b[0m\u001b[1;33m:\u001b[0m\u001b[1;33m\u001b[0m\u001b[0m\n\u001b[1;32m--> 154\u001b[1;33m             \u001b[0mmldata_url\u001b[0m \u001b[1;33m=\u001b[0m \u001b[0murlopen\u001b[0m\u001b[1;33m(\u001b[0m\u001b[0murlname\u001b[0m\u001b[1;33m)\u001b[0m\u001b[1;33m\u001b[0m\u001b[0m\n\u001b[0m\u001b[0;32m    155\u001b[0m         \u001b[1;32mexcept\u001b[0m \u001b[0mHTTPError\u001b[0m \u001b[1;32mas\u001b[0m \u001b[0me\u001b[0m\u001b[1;33m:\u001b[0m\u001b[1;33m\u001b[0m\u001b[0m\n\u001b[0;32m    156\u001b[0m             \u001b[1;32mif\u001b[0m \u001b[0me\u001b[0m\u001b[1;33m.\u001b[0m\u001b[0mcode\u001b[0m \u001b[1;33m==\u001b[0m \u001b[1;36m404\u001b[0m\u001b[1;33m:\u001b[0m\u001b[1;33m\u001b[0m\u001b[0m\n",
      "\u001b[1;32m~\\Anaconda3\\lib\\urllib\\request.py\u001b[0m in \u001b[0;36murlopen\u001b[1;34m(url, data, timeout, cafile, capath, cadefault, context)\u001b[0m\n\u001b[0;32m    221\u001b[0m     \u001b[1;32melse\u001b[0m\u001b[1;33m:\u001b[0m\u001b[1;33m\u001b[0m\u001b[0m\n\u001b[0;32m    222\u001b[0m         \u001b[0mopener\u001b[0m \u001b[1;33m=\u001b[0m \u001b[0m_opener\u001b[0m\u001b[1;33m\u001b[0m\u001b[0m\n\u001b[1;32m--> 223\u001b[1;33m     \u001b[1;32mreturn\u001b[0m \u001b[0mopener\u001b[0m\u001b[1;33m.\u001b[0m\u001b[0mopen\u001b[0m\u001b[1;33m(\u001b[0m\u001b[0murl\u001b[0m\u001b[1;33m,\u001b[0m \u001b[0mdata\u001b[0m\u001b[1;33m,\u001b[0m \u001b[0mtimeout\u001b[0m\u001b[1;33m)\u001b[0m\u001b[1;33m\u001b[0m\u001b[0m\n\u001b[0m\u001b[0;32m    224\u001b[0m \u001b[1;33m\u001b[0m\u001b[0m\n\u001b[0;32m    225\u001b[0m \u001b[1;32mdef\u001b[0m \u001b[0minstall_opener\u001b[0m\u001b[1;33m(\u001b[0m\u001b[0mopener\u001b[0m\u001b[1;33m)\u001b[0m\u001b[1;33m:\u001b[0m\u001b[1;33m\u001b[0m\u001b[0m\n",
      "\u001b[1;32m~\\Anaconda3\\lib\\urllib\\request.py\u001b[0m in \u001b[0;36mopen\u001b[1;34m(self, fullurl, data, timeout)\u001b[0m\n\u001b[0;32m    530\u001b[0m         \u001b[1;32mfor\u001b[0m \u001b[0mprocessor\u001b[0m \u001b[1;32min\u001b[0m \u001b[0mself\u001b[0m\u001b[1;33m.\u001b[0m\u001b[0mprocess_response\u001b[0m\u001b[1;33m.\u001b[0m\u001b[0mget\u001b[0m\u001b[1;33m(\u001b[0m\u001b[0mprotocol\u001b[0m\u001b[1;33m,\u001b[0m \u001b[1;33m[\u001b[0m\u001b[1;33m]\u001b[0m\u001b[1;33m)\u001b[0m\u001b[1;33m:\u001b[0m\u001b[1;33m\u001b[0m\u001b[0m\n\u001b[0;32m    531\u001b[0m             \u001b[0mmeth\u001b[0m \u001b[1;33m=\u001b[0m \u001b[0mgetattr\u001b[0m\u001b[1;33m(\u001b[0m\u001b[0mprocessor\u001b[0m\u001b[1;33m,\u001b[0m \u001b[0mmeth_name\u001b[0m\u001b[1;33m)\u001b[0m\u001b[1;33m\u001b[0m\u001b[0m\n\u001b[1;32m--> 532\u001b[1;33m             \u001b[0mresponse\u001b[0m \u001b[1;33m=\u001b[0m \u001b[0mmeth\u001b[0m\u001b[1;33m(\u001b[0m\u001b[0mreq\u001b[0m\u001b[1;33m,\u001b[0m \u001b[0mresponse\u001b[0m\u001b[1;33m)\u001b[0m\u001b[1;33m\u001b[0m\u001b[0m\n\u001b[0m\u001b[0;32m    533\u001b[0m \u001b[1;33m\u001b[0m\u001b[0m\n\u001b[0;32m    534\u001b[0m         \u001b[1;32mreturn\u001b[0m \u001b[0mresponse\u001b[0m\u001b[1;33m\u001b[0m\u001b[0m\n",
      "\u001b[1;32m~\\Anaconda3\\lib\\urllib\\request.py\u001b[0m in \u001b[0;36mhttp_response\u001b[1;34m(self, request, response)\u001b[0m\n\u001b[0;32m    640\u001b[0m         \u001b[1;32mif\u001b[0m \u001b[1;32mnot\u001b[0m \u001b[1;33m(\u001b[0m\u001b[1;36m200\u001b[0m \u001b[1;33m<=\u001b[0m \u001b[0mcode\u001b[0m \u001b[1;33m<\u001b[0m \u001b[1;36m300\u001b[0m\u001b[1;33m)\u001b[0m\u001b[1;33m:\u001b[0m\u001b[1;33m\u001b[0m\u001b[0m\n\u001b[0;32m    641\u001b[0m             response = self.parent.error(\n\u001b[1;32m--> 642\u001b[1;33m                 'http', request, response, code, msg, hdrs)\n\u001b[0m\u001b[0;32m    643\u001b[0m \u001b[1;33m\u001b[0m\u001b[0m\n\u001b[0;32m    644\u001b[0m         \u001b[1;32mreturn\u001b[0m \u001b[0mresponse\u001b[0m\u001b[1;33m\u001b[0m\u001b[0m\n",
      "\u001b[1;32m~\\Anaconda3\\lib\\urllib\\request.py\u001b[0m in \u001b[0;36merror\u001b[1;34m(self, proto, *args)\u001b[0m\n\u001b[0;32m    568\u001b[0m         \u001b[1;32mif\u001b[0m \u001b[0mhttp_err\u001b[0m\u001b[1;33m:\u001b[0m\u001b[1;33m\u001b[0m\u001b[0m\n\u001b[0;32m    569\u001b[0m             \u001b[0margs\u001b[0m \u001b[1;33m=\u001b[0m \u001b[1;33m(\u001b[0m\u001b[0mdict\u001b[0m\u001b[1;33m,\u001b[0m \u001b[1;34m'default'\u001b[0m\u001b[1;33m,\u001b[0m \u001b[1;34m'http_error_default'\u001b[0m\u001b[1;33m)\u001b[0m \u001b[1;33m+\u001b[0m \u001b[0morig_args\u001b[0m\u001b[1;33m\u001b[0m\u001b[0m\n\u001b[1;32m--> 570\u001b[1;33m             \u001b[1;32mreturn\u001b[0m \u001b[0mself\u001b[0m\u001b[1;33m.\u001b[0m\u001b[0m_call_chain\u001b[0m\u001b[1;33m(\u001b[0m\u001b[1;33m*\u001b[0m\u001b[0margs\u001b[0m\u001b[1;33m)\u001b[0m\u001b[1;33m\u001b[0m\u001b[0m\n\u001b[0m\u001b[0;32m    571\u001b[0m \u001b[1;33m\u001b[0m\u001b[0m\n\u001b[0;32m    572\u001b[0m \u001b[1;31m# XXX probably also want an abstract factory that knows when it makes\u001b[0m\u001b[1;33m\u001b[0m\u001b[1;33m\u001b[0m\u001b[0m\n",
      "\u001b[1;32m~\\Anaconda3\\lib\\urllib\\request.py\u001b[0m in \u001b[0;36m_call_chain\u001b[1;34m(self, chain, kind, meth_name, *args)\u001b[0m\n\u001b[0;32m    502\u001b[0m         \u001b[1;32mfor\u001b[0m \u001b[0mhandler\u001b[0m \u001b[1;32min\u001b[0m \u001b[0mhandlers\u001b[0m\u001b[1;33m:\u001b[0m\u001b[1;33m\u001b[0m\u001b[0m\n\u001b[0;32m    503\u001b[0m             \u001b[0mfunc\u001b[0m \u001b[1;33m=\u001b[0m \u001b[0mgetattr\u001b[0m\u001b[1;33m(\u001b[0m\u001b[0mhandler\u001b[0m\u001b[1;33m,\u001b[0m \u001b[0mmeth_name\u001b[0m\u001b[1;33m)\u001b[0m\u001b[1;33m\u001b[0m\u001b[0m\n\u001b[1;32m--> 504\u001b[1;33m             \u001b[0mresult\u001b[0m \u001b[1;33m=\u001b[0m \u001b[0mfunc\u001b[0m\u001b[1;33m(\u001b[0m\u001b[1;33m*\u001b[0m\u001b[0margs\u001b[0m\u001b[1;33m)\u001b[0m\u001b[1;33m\u001b[0m\u001b[0m\n\u001b[0m\u001b[0;32m    505\u001b[0m             \u001b[1;32mif\u001b[0m \u001b[0mresult\u001b[0m \u001b[1;32mis\u001b[0m \u001b[1;32mnot\u001b[0m \u001b[1;32mNone\u001b[0m\u001b[1;33m:\u001b[0m\u001b[1;33m\u001b[0m\u001b[0m\n\u001b[0;32m    506\u001b[0m                 \u001b[1;32mreturn\u001b[0m \u001b[0mresult\u001b[0m\u001b[1;33m\u001b[0m\u001b[0m\n",
      "\u001b[1;32m~\\Anaconda3\\lib\\urllib\\request.py\u001b[0m in \u001b[0;36mhttp_error_default\u001b[1;34m(self, req, fp, code, msg, hdrs)\u001b[0m\n\u001b[0;32m    648\u001b[0m \u001b[1;32mclass\u001b[0m \u001b[0mHTTPDefaultErrorHandler\u001b[0m\u001b[1;33m(\u001b[0m\u001b[0mBaseHandler\u001b[0m\u001b[1;33m)\u001b[0m\u001b[1;33m:\u001b[0m\u001b[1;33m\u001b[0m\u001b[0m\n\u001b[0;32m    649\u001b[0m     \u001b[1;32mdef\u001b[0m \u001b[0mhttp_error_default\u001b[0m\u001b[1;33m(\u001b[0m\u001b[0mself\u001b[0m\u001b[1;33m,\u001b[0m \u001b[0mreq\u001b[0m\u001b[1;33m,\u001b[0m \u001b[0mfp\u001b[0m\u001b[1;33m,\u001b[0m \u001b[0mcode\u001b[0m\u001b[1;33m,\u001b[0m \u001b[0mmsg\u001b[0m\u001b[1;33m,\u001b[0m \u001b[0mhdrs\u001b[0m\u001b[1;33m)\u001b[0m\u001b[1;33m:\u001b[0m\u001b[1;33m\u001b[0m\u001b[0m\n\u001b[1;32m--> 650\u001b[1;33m         \u001b[1;32mraise\u001b[0m \u001b[0mHTTPError\u001b[0m\u001b[1;33m(\u001b[0m\u001b[0mreq\u001b[0m\u001b[1;33m.\u001b[0m\u001b[0mfull_url\u001b[0m\u001b[1;33m,\u001b[0m \u001b[0mcode\u001b[0m\u001b[1;33m,\u001b[0m \u001b[0mmsg\u001b[0m\u001b[1;33m,\u001b[0m \u001b[0mhdrs\u001b[0m\u001b[1;33m,\u001b[0m \u001b[0mfp\u001b[0m\u001b[1;33m)\u001b[0m\u001b[1;33m\u001b[0m\u001b[0m\n\u001b[0m\u001b[0;32m    651\u001b[0m \u001b[1;33m\u001b[0m\u001b[0m\n\u001b[0;32m    652\u001b[0m \u001b[1;32mclass\u001b[0m \u001b[0mHTTPRedirectHandler\u001b[0m\u001b[1;33m(\u001b[0m\u001b[0mBaseHandler\u001b[0m\u001b[1;33m)\u001b[0m\u001b[1;33m:\u001b[0m\u001b[1;33m\u001b[0m\u001b[0m\n",
      "\u001b[1;31mHTTPError\u001b[0m: HTTP Error 404: Dataset 'mnist-original' not found on mldata.org."
     ]
    }
   ],
   "source": [
    "from sklearn.datasets import fetch_mldata\n",
    "\n",
    "# load data on your directry ~/scikit_learn_data/mldata/\n",
    "# if data does'nt exist, it downloads the data from site.\n",
    "mnist = fetch_mldata('MNIST original')\n",
    "\n",
    "# mnist.dataにはたくさんの画像データ（手書き数字）が入っている。\n",
    "print(mnist.data.shape)  # image 28 x 28 pixel\n",
    "print(mnist.target.shape)  # the label 0,1,2,...,9\n",
    "print(set(mnist.target))\n",
    "\n",
    "plt.imshow(mnist.data[0].reshape(28, 28), cmap='gray', interpolation='none')\n",
    "plt.show()"
   ]
  },
  {
   "cell_type": "code",
   "execution_count": 6,
   "metadata": {},
   "outputs": [
    {
     "ename": "NameError",
     "evalue": "name 'mnist' is not defined",
     "output_type": "error",
     "traceback": [
      "\u001b[1;31m---------------------------------------------------------------------------\u001b[0m",
      "\u001b[1;31mNameError\u001b[0m                                 Traceback (most recent call last)",
      "\u001b[1;32m<ipython-input-6-1a9ed8eae3bc>\u001b[0m in \u001b[0;36m<module>\u001b[1;34m()\u001b[0m\n\u001b[0;32m      1\u001b[0m \u001b[1;32mimport\u001b[0m \u001b[0msklearn\u001b[0m\u001b[1;33m\u001b[0m\u001b[0m\n\u001b[1;32m----> 2\u001b[1;33m \u001b[0mimgs\u001b[0m \u001b[1;33m=\u001b[0m \u001b[0mlist\u001b[0m\u001b[1;33m(\u001b[0m\u001b[0mmap\u001b[0m\u001b[1;33m(\u001b[0m\u001b[1;32mlambda\u001b[0m \u001b[0mx\u001b[0m\u001b[1;33m:\u001b[0m \u001b[0mx\u001b[0m\u001b[1;33m.\u001b[0m\u001b[0mreshape\u001b[0m\u001b[1;33m(\u001b[0m\u001b[1;36m28\u001b[0m\u001b[1;33m,\u001b[0m \u001b[1;36m28\u001b[0m\u001b[1;33m)\u001b[0m\u001b[1;33m,\u001b[0m \u001b[0msklearn\u001b[0m\u001b[1;33m.\u001b[0m\u001b[0mutils\u001b[0m\u001b[1;33m.\u001b[0m\u001b[0mshuffle\u001b[0m\u001b[1;33m(\u001b[0m\u001b[0mmnist\u001b[0m\u001b[1;33m.\u001b[0m\u001b[0mdata\u001b[0m\u001b[1;33m)\u001b[0m\u001b[1;33m)\u001b[0m\u001b[1;33m)\u001b[0m\u001b[1;33m\u001b[0m\u001b[0m\n\u001b[0m\u001b[0;32m      3\u001b[0m \u001b[1;33m\u001b[0m\u001b[0m\n\u001b[0;32m      4\u001b[0m \u001b[0mrow\u001b[0m\u001b[1;33m,\u001b[0m \u001b[0mcol\u001b[0m \u001b[1;33m=\u001b[0m \u001b[1;36m1\u001b[0m\u001b[1;33m,\u001b[0m \u001b[1;36m4\u001b[0m\u001b[1;33m\u001b[0m\u001b[0m\n\u001b[0;32m      5\u001b[0m \u001b[1;33m\u001b[0m\u001b[0m\n",
      "\u001b[1;31mNameError\u001b[0m: name 'mnist' is not defined"
     ]
    }
   ],
   "source": [
    "import sklearn\n",
    "imgs = list(map(lambda x: x.reshape(28, 28), sklearn.utils.shuffle(mnist.data)))\n",
    "\n",
    "row, col = 1, 4\n",
    "\n",
    "fig = plt.figure()\n",
    "for i in range(row*col):\n",
    "    sp = fig.add_subplot(row, col, i+1)  \n",
    "    sp.imshow(imgs[i], cmap='gray', interpolation='none')\n",
    "plt.show()"
   ]
  },
  {
   "cell_type": "markdown",
   "metadata": {},
   "source": [
    "### Train, Validation, Test 例"
   ]
  },
  {
   "cell_type": "code",
   "execution_count": null,
   "metadata": {
    "collapsed": true
   },
   "outputs": [],
   "source": [
    "# Select one of Classifeir (LinearSVC, KNeighbor, SDG) using validation set\n",
    "# and test best set\n",
    "\n",
    "from sklearn.svm import LinearSVC\n",
    "from sklearn.neighbors import KNeighborsClassifier\n",
    "from sklearn.linear_model import SGDClassifier\n",
    "\n",
    "from sklearn.metrics import accuracy_score\n",
    "\n",
    "mnist = fetch_mldata('MNIST original')\n",
    "M = len(mnist.data)\n",
    "N = 2000  # Use part of MNIST data to save computation time\n",
    "# randomly select N numbers from 0 to M\n",
    "selected = shuffle(range(M))[:N]\n",
    "\n",
    "# Split data into Train, Valid, Test\n",
    "train_valid_X, test_X, train_valid_y, test_y =\\\n",
    "    train_test_split(mnist.data[selected], mnist.target[selected])\n",
    "train_X, valid_X, train_y, valid_y =\\\n",
    "    train_test_split(train_valid_X, train_valid_y)\n",
    "\n",
    "classifiers = [LinearSVC(), KNeighborsClassifier(), SGDClassifier()]\n",
    "\n",
    "# Train each classifier with Train set\n",
    "accs = []\n",
    "for clf_type, classifier in enumerate(classifiers):\n",
    "    classifier.fit(train_X, train_y)\n",
    "    pred_train = classifier.predict(train_X)\n",
    "    acc_train = accuracy_score(train_y, pred_train)\n",
    "    pred_valid = classifier.predict(valid_X)\n",
    "    acc_valid = accuracy_score(valid_y, pred_valid)\n",
    "    print(\"classifier type: %d, Train Accuracy: %f, Validation Accuracy %f\" \\\n",
    "        % (clf_type, acc_train, acc_valid))\n",
    "    accs.append(acc_valid)\n",
    "\n",
    "# Chose best classifier with the highest validation accuracy\n",
    "i_clf_best = np.argmax(accs)\n",
    "print(\"Best Classifier: %d\" % i_clf_best)\n",
    "clf_best = classifiers[i_clf_best]\n",
    "\n",
    "# Test selected classifier\n",
    "pred = clf_best.predict(test_X)\n",
    "acc = accuracy_score(test_y, pred)\n",
    "print(\"Test(Best Classifier): %f\" % acc)"
   ]
  },
  {
   "cell_type": "markdown",
   "metadata": {},
   "source": [
    "## 参考： 画像処理"
   ]
  },
  {
   "cell_type": "code",
   "execution_count": null,
   "metadata": {
    "collapsed": true
   },
   "outputs": [],
   "source": [
    "import scipy.ndimage\n",
    "\n",
    "ZOOM = 10  # 変えてみよう\n",
    "SIGMA = 10  # 変えてみよう\n",
    "ANGLE = 45  # 変えてみよう\n",
    "\n",
    "img = mnist.data[-1].reshape(28, 28)\n",
    "plt.imshow(img, cmap='gray', interpolation='none')\n",
    "plt.show()\n",
    "\n",
    "# 縮小拡大\n",
    "img = scipy.ndimage.zoom(img, (ZOOM, ZOOM), order=1)\n",
    "# ぼかし\n",
    "img = scipy.ndimage.gaussian_filter(img, SIGMA)\n",
    "# 回転\n",
    "img = scipy.ndimage.rotate(img, ANGLE)\n",
    "\n",
    "plt.imshow(img, cmap='gray', interpolation='none')\n",
    "plt.show()\n",
    "# edge抽出など\n",
    "# http://scikit-image.org/docs/dev/auto_examples/plot_canny.html\n",
    "# http://www.tp.umu.se/~nylen/fnm/pylect/advanced/image_processing/index.html"
   ]
  },
  {
   "cell_type": "markdown",
   "metadata": {},
   "source": [
    "## 問題 2\n",
    "\n",
    "2-1. `mnist.data` には画像は何枚あるでしょうか。\n",
    "\n",
    "2-2. 画像データはどのようなグレースケールで表されているでしょうか。\n",
    "\n",
    "2-3. ４枚の数字を 縦2 $\\times$ 横2 で表示してみましょう。\n",
    "\n",
    "2-4. mnist にはどの数字がどれだけ入っているでしょうか。"
   ]
  },
  {
   "cell_type": "code",
   "execution_count": null,
   "metadata": {
    "collapsed": true
   },
   "outputs": [],
   "source": [
    "import sklearn\n",
    "\n",
    "mnist = sklearn.datasets.fetch_mldata('MNIST original')\n",
    "\n",
    "# 2-1\n",
    "print(len(mnist.data))\n",
    "\n",
    "# 2-2\n",
    "print(mnist.data.dtype)\n",
    "print(mnist.data.max())\n",
    "print(mnist.data.min())\n",
    "\n",
    "# 2-3\n",
    "imgs = list(map(lambda x: x.reshape(28, 28), sklearn.utils.shuffle(mnist.data)))\n",
    "\n",
    "fig = plt.figure()\n",
    "for i in range(4):\n",
    "    ax = fig.add_subplot(2, 2, i + 1)\n",
    "    ax.imshow(imgs[i], cmap='gray', interpolation='none')\n",
    "    \n",
    "# 2-4\n",
    "print({tag:list(mnist.target).count(tag) for tag in sorted(set(mnist.target))})\n",
    "\n",
    "# 2-4 別解\n",
    "import collections\n",
    "collections.Counter(mnist.target)"
   ]
  },
  {
   "cell_type": "code",
   "execution_count": null,
   "metadata": {
    "collapsed": true
   },
   "outputs": [],
   "source": []
  }
 ],
 "metadata": {
  "kernelspec": {
   "display_name": "Python 3",
   "language": "python",
   "name": "python3"
  },
  "language_info": {
   "codemirror_mode": {
    "name": "ipython",
    "version": 3
   },
   "file_extension": ".py",
   "mimetype": "text/x-python",
   "name": "python",
   "nbconvert_exporter": "python",
   "pygments_lexer": "ipython3",
   "version": "3.6.3"
  }
 },
 "nbformat": 4,
 "nbformat_minor": 1
}
